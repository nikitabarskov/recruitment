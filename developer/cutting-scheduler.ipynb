{
 "cells": [
  {
   "cell_type": "markdown",
   "metadata": {},
   "source": [
    "# Cutting Scheduler"
   ]
  },
  {
   "cell_type": "markdown",
   "metadata": {},
   "source": [
    "## Task"
   ]
  },
  {
   "cell_type": "markdown",
   "metadata": {},
   "source": [
    "Every day, a processing plant receives a number of animals according to an intake plan. The animals are slaughtered on the day of reception. Cutting can start the day after reception, at the earliest. Furthermore, cutting is executed on weekdays (5 days per week) and on each weekday the cutting capacity is 30,000 kg.\n",
    "\n",
    "Upon slaughtering, the carcasses are classified as belonging to one of the following five groups according to their weight (after slaughtering). It can be assumed that every carcass has a weight that falls into one of the five groups below.\n",
    "\n",
    "    Group   Weight (avg, stddev) (kg)   Frequency\n",
    "        1       365, 4.9                0.28571429\n",
    "        2       375, 5.1                0.28571429\n",
    "        3       385, 5.0                0.14285714\n",
    "        4       395, 5.3                0.14285714\n",
    "        5       405, 5.9                0.14285714\n",
    "\n",
    "Create a piece of Python code that takes as its input an intake plan. The following is an example of an intake plan.\n",
    "\n",
    "                            Mon  Tue   Wed  Thu  Fri\n",
    "    Animals to slaughter    120   70    20  100   80\n",
    "\n",
    "The task consists of scheduling a cutting plan, which is the expected output of your Python code. A cutting plan is a table of carcasses with their weight, group and the day they will be cut. The start day is the beginning of the intake plan."
   ]
  },
  {
   "cell_type": "markdown",
   "metadata": {},
   "source": [
    "## Solution"
   ]
  },
  {
   "cell_type": "code",
   "execution_count": null,
   "metadata": {},
   "outputs": [],
   "source": []
  }
 ],
 "metadata": {
  "language_info": {
   "name": "plaintext"
  },
  "orig_nbformat": 4
 },
 "nbformat": 4,
 "nbformat_minor": 2
}
