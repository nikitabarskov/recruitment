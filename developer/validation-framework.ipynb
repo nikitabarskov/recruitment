{
 "cells": [
  {
   "cell_type": "markdown",
   "metadata": {},
   "source": [
    "# Data Validation Framework \n",
    "\n",
    "## 💡Problem statement\n",
    "\n",
    "Our customers ingest data into our data warehouse on a daily basis. This data represents facts and dimensions across their value chain (e.g., supply available, orders, product catalogs, etc.). The cleaning of the data is orchestrated through different stages to output a set of tables that are used as inputs into our optimization models. \n",
    "\n",
    "In order to ensure the quality of the data and to reduce the GIGO effect (garbage in, garbage out) to the minimum, we need the **ultimate data validation framework**.\n",
    "\n",
    "## 🛠️ The framework\n",
    "\n",
    "The validation framework must be triggered once the data in ingested, and it must be fully automated. It will test and validate different expectations at different stages of the ETL pipelines, namely alpha, beta and gamma. These expectations can be specific to a table or a field within that table, or to a set of tables that share common expectations. The tests should generate reports, and failing ones will need to be reported to the customer, so keeping track of the original fields names from the raw data is important.\n",
    "\n",
    "Expectations within the validation could be defined as:\n",
    "* no nulls\n",
    "* no negative values\n",
    "* unique values, applicable also to pairs of columns\n",
    "* values within a range\n",
    "* values within the valid format (e.g., dates)\n",
    "\n",
    "Examples of a stages of the data and a data model can be seen below\n",
    "\n",
    "![diagram](../assets/validation-diagram.jpg)\n",
    "<p style=\"text-align: center;\">Example of the different stages of a ETL and their respective validation of the data</p>\n",
    "\n",
    "![diagram](../assets/data-model-example-wide.jpg)\n",
    "<p style=\"text-align: center;\">Example of different customer tables from different ERP systems</p>\n",
    "\n",
    "## 🎯 Your mission\n",
    "\n",
    "You are in charge of building that framework (duh!). It will enable the Data Science team to do exploratory data analysis within the customer's data, and to identify and report issues back to the customer. \n",
    "\n",
    "The main requirements are:\n",
    "* it must be a Python tool \n",
    "* it can be built on top of existing packages\n",
    "* it must be fully maintainable and scalable regarding the tests that we can execute\n",
    "\n",
    "You will need to provide:\n",
    "* a documented process of though on how you would design the framework\n",
    "* a boilerplate to execute the tests against the different stages in the pipeline, tables, and fields\n",
    "* a boilerplate to add new tables, fields, and test to the framework\n",
    "* a draft of a method to contextualize fields (e.g., identify valid ranges, representation of null, etc.)\n",
    "\n",
    "You will not need to provide:\n",
    "* a client to connect to our data warehouse\n",
    "\n",
    "## ☠️ Caveats and other pita(s)\n",
    "\n",
    "There will be a set of rabbit holes from the data provided by the customers:\n",
    "\n",
    "* different raw tables might come from different ERP systems, meaning that the source of truth will be different for different tables.\n",
    "* the same field across the tables could appear with different naming conventions\n",
    "  * E.g., \"Product Code\", \"ProductCode\", \"Product\", \"product code\", etc.\n",
    "* the actual range of valid values are not fully known.\n",
    "* it is not known whether a value can be null, or what it could represent if so\n",
    "* columns representing the same field across different tables could have unique values, which might not match (a.k.a unique set in table A is not a subset or superset of unique set in table B)"
   ]
  }
 ],
 "metadata": {
  "kernelspec": {
   "display_name": "Python 3.9.13 64-bit (microsoft store)",
   "language": "python",
   "name": "python3"
  },
  "language_info": {
   "name": "python",
   "version": "3.9.13"
  },
  "orig_nbformat": 4,
  "vscode": {
   "interpreter": {
    "hash": "6ccda4cf497a1ac74cdbccb1c0114a3bcadb57cf4315f8b33cc599587ac95f96"
   }
  }
 },
 "nbformat": 4,
 "nbformat_minor": 2
}
