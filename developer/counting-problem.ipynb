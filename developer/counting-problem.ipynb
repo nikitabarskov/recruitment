{
 "cells": [
  {
   "cell_type": "markdown",
   "metadata": {},
   "source": [
    "# Counting problem"
   ]
  },
  {
   "cell_type": "markdown",
   "metadata": {},
   "source": [
    "## Problem Description"
   ]
  },
  {
   "cell_type": "markdown",
   "metadata": {},
   "source": [
    "For every non-negative integer `m` we have the set\n",
    "\n",
    "`[m]={0, 1, ..., m}`.\n",
    "\n",
    "Give it the usual total ordering. A total order is just a special case of a partial order. Now, consider the product `[m] x [n]`, which is a partially ordered set, consisting of pairs `(i, j)`. In other words, we get that if `(i_1, j_1)` and `(i_2, j_2)` are elements of `[m] x [n]`, then\n",
    "\n",
    "`(i_1, j_1) <= (i_2, j_2)`\n",
    "\n",
    "if `i_1 <= i_2` and `j_1 <= j_2`.\n",
    "\n",
    "We can think of `[m] x [n]` as a grid (in combinatorial terminology, it's called a lattice) where the first factor/index corresponds to a column and the second to a row. For example, if `m=5` and `n=3`, then the element `(2, 1)` is the point in the third column and in the second row, because we start counting with `0`, here. We can also think of the grid as a directed graph with edges\n",
    "\n",
    "- `(0, 0) -> (1, 0)`,\n",
    "- `(0, 0) -> (0, 1)`,\n",
    "- `(0, 0) -> (1, 1)`,\n",
    "- `(1, 0) -> (1, 1)`\n",
    "\n",
    "and so on, if we want to.\n",
    "\n",
    "For convenience, let's refer to a totally ordered subset of `[m] x [n]` that passes through every column and every row as a `(m, n)`-path. Probably you understand what we mean by this slightly imprecise language. If you do, ignore the following mathematical way to formulate the same thing. A `(m, n)`-path of length `k` is the image of an injective order preserving function `[k] -> [m] x [n]` whose composites with the projections `pr_1: [m] x [n] -> [m]` and `pr_2: [m] x [n] -> [n]` onto the first and second factor, respectively, are surjective.\n",
    "\n",
    "An example of a `(3, 2)`-path is the following.\n",
    "\n",
    "`{(0, 0) < (1, 1) < (2, 2) < (3, 2)}`\n",
    "\n",
    "Here we have replaced the usual comma in the set notation with the less than-sign, to emphasize that the partial order induced from `[m] x [n]` is total."
   ]
  },
  {
   "cell_type": "markdown",
   "metadata": {},
   "source": [
    "## Warm-up questions"
   ]
  },
  {
   "cell_type": "markdown",
   "metadata": {},
   "source": [
    "- How long are the shortests paths in a grid as described above?\n",
    "- How long are the longest paths?\n",
    "- Do you think you could write down a formula for how many paths there are (don't worry if you can't, just proceed to the task because this question is only meant to get you thinking along favorable lines)?"
   ]
  },
  {
   "cell_type": "markdown",
   "metadata": {},
   "source": [
    "## Task"
   ]
  },
  {
   "cell_type": "markdown",
   "metadata": {},
   "source": [
    "Given non-negative integers `m` and `n`, consider the set of all `(m, n)`-paths. We can order these by inclusion, meaning that the `(3, 2)`-path\n",
    "\n",
    "`{(0, 0) < (1, 1) < (2, 2) < (3, 2)}`\n",
    "\n",
    "is less than (or equal to)\n",
    "\n",
    "`{(0, 0) < (1, 1) < (2, 1) < (2, 2) < (3, 2)}`\n",
    "\n",
    "because all elements of the former are also elements in the latter. The latter has the element `(2, 1)` in addition.\n",
    "\n",
    "A subset of a partially ordered set whose induced partial order is total, is often referred to as a chain. Consider chains in the partially ordered set of all `(m, n)`-paths. Let's agree that a chain of length `k` has `k + 1` elements. Then\n",
    "\n",
    "`{(0, 0) < (1, 1) < (2, 2) < (3, 2)} < {(0, 0) < (1, 1) < (2, 1) < (2, 2) < (3, 2)}`\n",
    "\n",
    "is an example of a `1`-chain.\n",
    "\n",
    "Write a Python program that for reasonably small non-negative integers `m` and `n`, calculates the sum\n",
    "\n",
    "`len({0-chains}) - len({1-chains}) + len({2-chains}) - len({3-chains}) + ...`\n",
    "\n",
    "which will of course be a finite sum whose number of summands depends on `m` and `n`. Present your solution as a link to a public github repo under your own user."
   ]
  },
  {
   "cell_type": "markdown",
   "metadata": {},
   "source": []
  }
 ],
 "metadata": {
  "kernelspec": {
   "display_name": "Python 3.10.6 ('exploratory3')",
   "language": "python",
   "name": "python3"
  },
  "language_info": {
   "name": "python",
   "version": "3.10.6"
  },
  "orig_nbformat": 4,
  "vscode": {
   "interpreter": {
    "hash": "27b45f06164a7f67c88d49f38b8bbfa5bf4b8ce9264f422b07064097f7e37603"
   }
  }
 },
 "nbformat": 4,
 "nbformat_minor": 2
}
