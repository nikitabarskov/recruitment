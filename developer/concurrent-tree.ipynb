{
 "cells": [
  {
   "cell_type": "markdown",
   "metadata": {},
   "source": [
    "# Minimum spanning tree of undirected graph"
   ]
  },
  {
   "cell_type": "markdown",
   "metadata": {},
   "source": [
    "## Background"
   ]
  },
  {
   "cell_type": "markdown",
   "metadata": {},
   "source": [
    "In the meat industry or more generally, in supply chain management, graph algorithms are very important. Furthermore, there are connections between graph algorithms and optimization problems.\n",
    "\n",
    "Imagine an interactive software solution that functions as a planning and decision tool for the meat industry. The capabilities of such a solution would be powered by various ways of analyzing graphs. These analyses would be run both in data pipelines and would also tie directly into user experience through interactive simulations requested by the users of the solution. Now, this means that graph algorithms must sometimes be fast and there is a potential for exceeding the memory of a single machine, which would prompt spilling data to disk and/or provisioning a cluster for calculations.\n",
    "\n",
    "The need for speed in an interactive software solution would spark the need for concurrent graph algorithms. Moreover, if a concurrent graph algorithm can be adapted to run on a cluster, then it is an important step towards scaling the business to handling more data or more complex problems."
   ]
  },
  {
   "cell_type": "markdown",
   "metadata": {},
   "source": [
    "## Task"
   ]
  },
  {
   "cell_type": "markdown",
   "metadata": {},
   "source": [
    "Write Python code that finds a minimum spanning tree using concurrent methods. State any additional assumptions you have made. Prepare to offer some context regarding spanning trees during an interview. If you are familiar with an external library that offers high-level constructs to program concurrently, then feel free to use it. We consider it a bonus if your choices are such that your solution can be modified to run on a cluster, but this is not a requirement.\n",
    "\n",
    "Optionally, try to write Python code that finds a minimum-cost spanning tree using concurrent methods. What known algorithm(s) did you use or modify to create your solution? Prepare to justify your choice(s) during an interview."
   ]
  },
  {
   "cell_type": "markdown",
   "metadata": {},
   "source": [
    "## Definitions"
   ]
  },
  {
   "cell_type": "markdown",
   "metadata": {},
   "source": [
    "An undirected graph consists of nodes or vertices together with a set of edges, meaning unordered pairs of nodes. A graph is connected if there is a path between any two nodes. A tree is a connected acyclic (with no cycles) graph. A spanning tree of a graph G=(V, E) is a tree whose nodes are the nodes V of G and whose edges form a subset of E. Finally, a minimum spanning tree is a spanning tree with the minimal number of edges."
   ]
  },
  {
   "cell_type": "markdown",
   "metadata": {},
   "source": [
    "## Hints"
   ]
  },
  {
   "cell_type": "markdown",
   "metadata": {},
   "source": [
    "Regarding data structures to use, you'll probably find linked lists useful. For example, one could represent a graph as a dictionary whose keys are the vertices and whose values are linked (adjacency) lists."
   ]
  },
  {
   "cell_type": "markdown",
   "metadata": {},
   "source": [
    "## Solution"
   ]
  }
 ],
 "metadata": {
  "language_info": {
   "name": "plaintext"
  },
  "orig_nbformat": 4
 },
 "nbformat": 4,
 "nbformat_minor": 2
}
