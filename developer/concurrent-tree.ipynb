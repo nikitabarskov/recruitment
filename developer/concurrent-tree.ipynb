{
 "cells": [
  {
   "cell_type": "code",
   "execution_count": null,
   "metadata": {},
   "outputs": [],
   "source": [
    "# Minimum spanning tree of undirected graph"
   ]
  },
  {
   "cell_type": "markdown",
   "metadata": {},
   "source": [
    "## Task"
   ]
  },
  {
   "cell_type": "markdown",
   "metadata": {},
   "source": [
    "Write Python code that finds a minimum spanning tree using concurrent methods. State any additional assumptions you have made. Prepare to offer some context regarding spanning trees during an interview."
   ]
  },
  {
   "cell_type": "markdown",
   "metadata": {},
   "source": [
    "Next, write Python code that finds a minimum-cost spanning tree using concurrent methods. What known algorithm(s) did you use or modify to create your solution? Prepare to justify your choice(s) during an interview."
   ]
  }
 ],
 "metadata": {
  "language_info": {
   "name": "plaintext"
  },
  "orig_nbformat": 4
 },
 "nbformat": 4,
 "nbformat_minor": 2
}
