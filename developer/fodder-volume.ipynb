{
 "cells": [
  {
   "cell_type": "markdown",
   "metadata": {},
   "source": [
    "# Fodder volume calculation"
   ]
  },
  {
   "cell_type": "markdown",
   "metadata": {},
   "source": [
    "## Task"
   ]
  },
  {
   "cell_type": "markdown",
   "metadata": {},
   "source": [
    "When live cows enter a meat production facility, their basic needs are seen to up until the very moment of slaughter. As per governmental requirement, the volume of fodder available to the cows must be estimated on a daily basis. Now, because the floor is uneven due to the facility being built on clay ground with bits of wood from a previous civilization, a scan of the floor has been constructed to aid the estimate creation.\n",
    "\n",
    "Assume for this task that the floor is just 1-dimensional and that a given array of floor heights is input to your code. The figure below is meant to illustrate the floor profile with fodder units denoted `F`.\n",
    "\n",
    "```\n",
    ". |\n",
    ". |\n",
    "5 |\n",
    "4 |\n",
    "3 |       #\n",
    "2 |   #FFF##F#\n",
    "1 | #F##F######\n",
    "   ----------------------------\n",
    "```\n",
    "\n",
    "In the figure, we see 6 units of fodder, because there are six `F`'s. The fodder fills the uneven surface of the floor. Now, the input array to your code is the following example in the case above.\n",
    "```\n",
    "Input = [0, 1, 0, 2, 1, 0, 1, 3, 2, 1, 2, 1]\n",
    "```\n",
    "In words, this is a height profile of the floor after the scan. For animal welfare reasons, it's of course enough to come up with an estimate of the minimum amount of fodder, so assume that the fodder behaves like a fluid after being dumped by a truck on the floor. Therefore, 6 is the estimate of the minimum volume of fodder on the floor in the example above.\n",
    "\n",
    "Your task is to make Python code that takes such an input array interpreted as a height profile of a 1-dimensional floor and gives a minimal fodder estimate in return."
   ]
  },
  {
   "cell_type": "markdown",
   "metadata": {},
   "source": [
    "## Solution"
   ]
  },
  {
   "cell_type": "code",
   "execution_count": null,
   "metadata": {},
   "outputs": [],
   "source": [
    "def fodder_volume(height: list[int]) -> int:\n",
    "    ..."
   ]
  }
 ],
 "metadata": {
  "kernelspec": {
   "display_name": "Python 3",
   "name": "python3"
  },
  "orig_nbformat": 4
 },
 "nbformat": 4,
 "nbformat_minor": 2
}
